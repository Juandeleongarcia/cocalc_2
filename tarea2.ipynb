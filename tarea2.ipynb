{
 "cells": [
  {
   "cell_type": "code",
   "execution_count": 3,
   "metadata": {
    "collapsed": false
   },
   "outputs": [
    {
     "name": "stdout",
     "output_type": "stream",
     "text": [
      "Floor de -3.56: -4\n",
      "Ceiling de -3.56: -3\n"
     ]
    }
   ],
   "source": [
    "#Calcula el floor y el ceiling de -3.56\n",
    "numero= -3.56 \n",
    "#floor aproxima al numero entero mas pequeño y ceiling al numero entero mas cerca por arriba\n",
    "aprox_floor = floor(numero)\n",
    "aprox_ceiling = ceil(numero)\n",
    "#para dar el resultado\n",
    "print(\"Floor de -3.56:\", aprox_floor)\n",
    "print(\"Ceiling de -3.56:\", aprox_ceiling) "
   ]
  },
  {
   "cell_type": "code",
   "execution_count": 16,
   "metadata": {
    "collapsed": false
   },
   "outputs": [
    {
     "name": "stdout",
     "output_type": "stream",
     "text": [
      "Log e(100) = 4.605170185988092\n",
      "Log 10(100) = 2.0\n",
      "Cociente de ambos es:  2.302585092994046\n"
     ]
    }
   ],
   "source": [
    "#Calcula el logaritmo en base e de 100, calcula el logaritmo en base 10 de 100, después calcula el cociente. ¿Cual deberia ser el resultado?\n",
    "def logaritmo (arg, base):\n",
    "    return float (log(arg,base))\n",
    "logaritmo1= logaritmo (100, e)\n",
    "logaritmo2 = logaritmo (100, 10)\n",
    "cociente = ( logaritmo1 / logaritmo2)\n",
    "#ya calculados los logaritmos y el cociente ahora printeamos el resultado\n",
    "print (\"Log e(100) =\" , logaritmo1) \n",
    "print (\"Log 10(100) =\" , logaritmo2)\n",
    "print (\"Cociente de ambos es: \" , cociente)"
   ]
  },
  {
   "cell_type": "code",
   "execution_count": 17,
   "metadata": {
    "collapsed": false
   },
   "outputs": [
    {
     "name": "stdout",
     "output_type": "stream",
     "text": [
      "Log 2(64) =  6.0\n"
     ]
    }
   ],
   "source": [
    "#Calcula el logaritmo en base 2 de 64.\n",
    "def logaritmo (arg, base):\n",
    "    return float (log(arg,base))\n",
    "logaritmo = logaritmo (64,2)\n",
    "print (\"Log 2(64) = \" , logaritmo)"
   ]
  },
  {
   "cell_type": "code",
   "execution_count": 10,
   "metadata": {
    "collapsed": false
   },
   "outputs": [
    {
     "name": "stdout",
     "output_type": "stream",
     "text": [
      "1\n"
     ]
    }
   ],
   "source": [
    "#Compara (e^iπ) con una aproximación numérica, usando pi.n().\n",
    "import math\n",
    "e_elevado_iπ = ((math.e)**(complex()*pi))\n",
    "print (e_elevado_iπ)"
   ]
  },
  {
   "cell_type": "code",
   "execution_count": 15,
   "metadata": {
    "collapsed": false
   },
   "outputs": [
    {
     "name": "stdout",
     "output_type": "stream",
     "text": [
      "sin (π/2) = 1\n",
      "cot (π/4) = 1\n",
      "π/16 = 5.125830895483013\n"
     ]
    }
   ],
   "source": [
    "#Calcula sin (π/2), cot (π/4) i csc (π/16).\n",
    "first = int(sin(π/2))\n",
    "print (\"sin (π/2) =\" , first)\n",
    "second = int(cot (π/4)) \n",
    "print (\"cot (π/4) =\" , second)\n",
    "third = float(csc(π/16))\n",
    "print (\"π/16 =\" , third)"
   ]
  },
  {
   "cell_type": "code",
   "execution_count": 0,
   "metadata": {
    "collapsed": false
   },
   "outputs": [
   ],
   "source": [
   ]
  }
 ],
 "metadata": {
  "kernelspec": {
   "argv": [
    "sage-10.2",
    "--python",
    "-m",
    "sage.repl.ipython_kernel",
    "--matplotlib=inline",
    "-f",
    "{connection_file}"
   ],
   "display_name": "SageMath 10.2",
   "env": {
   },
   "language": "sagemath",
   "metadata": {
    "cocalc": {
     "description": "Open-source mathematical software system",
     "priority": 2,
     "url": "https://www.sagemath.org/"
    }
   },
   "name": "sage-10.2",
   "resource_dir": "/ext/jupyter/kernels/sage-10.2"
  },
  "language_info": {
   "codemirror_mode": {
    "name": "ipython",
    "version": 3
   },
   "file_extension": ".py",
   "mimetype": "text/x-python",
   "name": "python",
   "nbconvert_exporter": "python",
   "pygments_lexer": "ipython3",
   "version": "3.11.1"
  }
 },
 "nbformat": 4,
 "nbformat_minor": 4
}